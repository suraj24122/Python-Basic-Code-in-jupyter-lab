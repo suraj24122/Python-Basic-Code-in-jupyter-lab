{
 "cells": [
  {
   "cell_type": "code",
   "execution_count": 1,
   "id": "0359c829-7227-4a75-82db-30641d38924f",
   "metadata": {},
   "outputs": [
    {
     "name": "stdin",
     "output_type": "stream",
     "text": [
      "Enter the number 1 =  12\n",
      "Enter the number 2 =  34\n"
     ]
    },
    {
     "name": "stdout",
     "output_type": "stream",
     "text": [
      "Before swapping of two numbers \n",
      " first number = 12 and \n",
      " second number = 34\n"
     ]
    }
   ],
   "source": [
    "number_1 = int(input(\"Enter the number 1 = \"))\n",
    "number_2 = int(input(\"Enter the number 2 = \"))\n",
    "temp = 0\n",
    "print(f\"Before swapping of two numbers \\n first number = {number_1}  \\n second number = {number_2}\")\n"
   ]
  },
  {
   "cell_type": "code",
   "execution_count": 3,
   "id": "eaad0fa3-ff18-419d-bfaf-a2fd28122844",
   "metadata": {},
   "outputs": [
    {
     "name": "stdout",
     "output_type": "stream",
     "text": [
      "After swapping of two numbers are = \n",
      " number 1 34 \n",
      " number 2 = 12\n"
     ]
    }
   ],
   "source": [
    "temp = number_1\n",
    "number_1 = number_2\n",
    "number_2 = temp\n",
    "print(f\"After swapping of two numbers are = \\n number 1 {number_1} \\n number 2 = {number_2}\")"
   ]
  },
  {
   "cell_type": "code",
   "execution_count": null,
   "id": "23c24a09-4595-41fd-ad0e-f52d426cf796",
   "metadata": {},
   "outputs": [],
   "source": []
  }
 ],
 "metadata": {
  "kernelspec": {
   "display_name": "Python [conda env:base] *",
   "language": "python",
   "name": "conda-base-py"
  },
  "language_info": {
   "codemirror_mode": {
    "name": "ipython",
    "version": 3
   },
   "file_extension": ".py",
   "mimetype": "text/x-python",
   "name": "python",
   "nbconvert_exporter": "python",
   "pygments_lexer": "ipython3",
   "version": "3.12.7"
  }
 },
 "nbformat": 4,
 "nbformat_minor": 5
}
