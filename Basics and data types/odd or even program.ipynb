{
 "cells": [
  {
   "cell_type": "code",
   "execution_count": 3,
   "id": "040ead51-3867-4ce8-8de6-c1f5d30c770e",
   "metadata": {},
   "outputs": [
    {
     "name": "stdin",
     "output_type": "stream",
     "text": [
      "Enter the number to find the number is odd or even =  1\n"
     ]
    },
    {
     "name": "stdout",
     "output_type": "stream",
     "text": [
      "1 is even number\n"
     ]
    }
   ],
   "source": [
    "Enter_number = int(input(\"Enter the number to find the number is odd or even = \"))\n",
    "if Enter_number % 2 == 0:\n",
    "    print(f\"{Enter_number} is odd number\")\n",
    "else:\n",
    "    print(f\"{Enter_number} is even number\")"
   ]
  },
  {
   "cell_type": "code",
   "execution_count": null,
   "id": "849e1027-fb19-42a1-8610-f092ae93e2de",
   "metadata": {},
   "outputs": [],
   "source": []
  }
 ],
 "metadata": {
  "kernelspec": {
   "display_name": "Python [conda env:base] *",
   "language": "python",
   "name": "conda-base-py"
  },
  "language_info": {
   "codemirror_mode": {
    "name": "ipython",
    "version": 3
   },
   "file_extension": ".py",
   "mimetype": "text/x-python",
   "name": "python",
   "nbconvert_exporter": "python",
   "pygments_lexer": "ipython3",
   "version": "3.12.7"
  }
 },
 "nbformat": 4,
 "nbformat_minor": 5
}
