{
 "cells": [
  {
   "cell_type": "code",
   "execution_count": 1,
   "id": "4ac5288a-6e98-4df7-896f-bb0406853505",
   "metadata": {},
   "outputs": [
    {
     "name": "stdin",
     "output_type": "stream",
     "text": [
      "Enter the number 1 =  10\n",
      "Enter the number 2 =  24\n",
      "Enter the number 3 =  2\n"
     ]
    },
    {
     "name": "stdout",
     "output_type": "stream",
     "text": [
      "The largest number is 24\n"
     ]
    }
   ],
   "source": [
    "a = int(input(\"Enter the number 1 = \"))\n",
    "b = int(input(\"Enter the number 2 = \"))\n",
    "c = int(input(\"Enter the number 3 = \"))\n",
    "\n",
    "largest = 0\n",
    "\n",
    "if a>=b and a>= c:\n",
    "    largest = a\n",
    "elif b >= a and b >= c:\n",
    "    largest = b\n",
    "else:\n",
    "    largest = c\n",
    "\n",
    "print(f\"The largest number is {largest}\")"
   ]
  },
  {
   "cell_type": "code",
   "execution_count": null,
   "id": "68c79526-529b-4daf-bdc4-49c6e9fc10c2",
   "metadata": {},
   "outputs": [],
   "source": []
  }
 ],
 "metadata": {
  "kernelspec": {
   "display_name": "Python [conda env:base] *",
   "language": "python",
   "name": "conda-base-py"
  },
  "language_info": {
   "codemirror_mode": {
    "name": "ipython",
    "version": 3
   },
   "file_extension": ".py",
   "mimetype": "text/x-python",
   "name": "python",
   "nbconvert_exporter": "python",
   "pygments_lexer": "ipython3",
   "version": "3.12.7"
  }
 },
 "nbformat": 4,
 "nbformat_minor": 5
}
