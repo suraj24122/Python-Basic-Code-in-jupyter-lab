{
 "cells": [
  {
   "cell_type": "code",
   "execution_count": 4,
   "id": "1260be22-ecc5-44b2-8ad6-390f293fef4b",
   "metadata": {},
   "outputs": [
    {
     "name": "stdin",
     "output_type": "stream",
     "text": [
      "Enter the number that you want to print table =  5\n"
     ]
    },
    {
     "name": "stdout",
     "output_type": "stream",
     "text": [
      "multiplication table of 5 = \n",
      "5 X 1 =  5\n",
      "5 X 2 =  10\n",
      "5 X 3 =  15\n",
      "5 X 4 =  20\n",
      "5 X 5 =  25\n",
      "5 X 6 =  30\n",
      "5 X 7 =  35\n",
      "5 X 8 =  40\n",
      "5 X 9 =  45\n",
      "5 X 10 =  50\n"
     ]
    }
   ],
   "source": [
    "enter_number = int(input(\"Enter the number that you want to print table = \"))\n",
    "print(f\"multiplication table of {enter_number} = \")\n",
    "for i in range(1,11):\n",
    "    result = enter_number * i\n",
    "    print(f\"{enter_number} X {i} = \",result)"
   ]
  },
  {
   "cell_type": "code",
   "execution_count": null,
   "id": "ec4e75d5-58b4-4666-9346-2e13f725a417",
   "metadata": {},
   "outputs": [],
   "source": []
  }
 ],
 "metadata": {
  "kernelspec": {
   "display_name": "Python [conda env:base] *",
   "language": "python",
   "name": "conda-base-py"
  },
  "language_info": {
   "codemirror_mode": {
    "name": "ipython",
    "version": 3
   },
   "file_extension": ".py",
   "mimetype": "text/x-python",
   "name": "python",
   "nbconvert_exporter": "python",
   "pygments_lexer": "ipython3",
   "version": "3.12.7"
  }
 },
 "nbformat": 4,
 "nbformat_minor": 5
}
