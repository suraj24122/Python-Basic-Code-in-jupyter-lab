{
 "cells": [
  {
   "cell_type": "code",
   "execution_count": 18,
   "id": "a3478dfd-d77d-4b44-adfc-5e49d8765633",
   "metadata": {},
   "outputs": [
    {
     "name": "stdin",
     "output_type": "stream",
     "text": [
      "Enter the number =  121\n"
     ]
    },
    {
     "name": "stdout",
     "output_type": "stream",
     "text": [
      "121 is a palindrome\n"
     ]
    }
   ],
   "source": [
    "Enter_number = in(input(\"Enter the number = \"))\n",
    "\n",
    "original_number = Enter_number #stores original number to compare\n",
    "reversed_number = 0 # this variable will store the reversed number\n",
    "\n",
    "while Enter_number != 0:\n",
    "    digit = Enter_number % 10  #extract the last digit\n",
    "    reversed_number = reversed_number * 10 + digit  #Build the reversed number\n",
    "    Enter_number = Enter_number // 10 #Remove the last digit\n",
    "\n",
    "if original_number == reversed_number:\n",
    "    print(f\"{original_number} is a palindrome\")\n",
    "else:\n",
    "    print(f\"{original_number} is not a palindrome\")\n",
    "\n"
   ]
  }
 ],
 "metadata": {
  "kernelspec": {
   "display_name": "Python [conda env:base] *",
   "language": "python",
   "name": "conda-base-py"
  },
  "language_info": {
   "codemirror_mode": {
    "name": "ipython",
    "version": 3
   },
   "file_extension": ".py",
   "mimetype": "text/x-python",
   "name": "python",
   "nbconvert_exporter": "python",
   "pygments_lexer": "ipython3",
   "version": "3.12.7"
  }
 },
 "nbformat": 4,
 "nbformat_minor": 5
}
