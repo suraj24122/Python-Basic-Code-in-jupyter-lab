{
 "cells": [
  {
   "cell_type": "code",
   "execution_count": 7,
   "id": "66647f9e-e4fc-4b2f-8c09-0278de35a2f7",
   "metadata": {},
   "outputs": [
    {
     "name": "stdout",
     "output_type": "stream",
     "text": [
      "Printing even numbers between 1 to 100\n",
      "Even numbers are =  2\n",
      "Even numbers are =  4\n",
      "Even numbers are =  6\n",
      "Even numbers are =  8\n",
      "Even numbers are =  10\n",
      "Even numbers are =  12\n",
      "Even numbers are =  14\n",
      "Even numbers are =  16\n",
      "Even numbers are =  18\n",
      "Even numbers are =  20\n",
      "Even numbers are =  22\n",
      "Even numbers are =  24\n",
      "Even numbers are =  26\n",
      "Even numbers are =  28\n",
      "Even numbers are =  30\n",
      "Even numbers are =  32\n",
      "Even numbers are =  34\n",
      "Even numbers are =  36\n",
      "Even numbers are =  38\n",
      "Even numbers are =  40\n",
      "Even numbers are =  42\n",
      "Even numbers are =  44\n",
      "Even numbers are =  46\n",
      "Even numbers are =  48\n",
      "Even numbers are =  50\n",
      "Even numbers are =  52\n",
      "Even numbers are =  54\n",
      "Even numbers are =  56\n",
      "Even numbers are =  58\n",
      "Even numbers are =  60\n",
      "Even numbers are =  62\n",
      "Even numbers are =  64\n",
      "Even numbers are =  66\n",
      "Even numbers are =  68\n",
      "Even numbers are =  70\n",
      "Even numbers are =  72\n",
      "Even numbers are =  74\n",
      "Even numbers are =  76\n",
      "Even numbers are =  78\n",
      "Even numbers are =  80\n",
      "Even numbers are =  82\n",
      "Even numbers are =  84\n",
      "Even numbers are =  86\n",
      "Even numbers are =  88\n",
      "Even numbers are =  90\n",
      "Even numbers are =  92\n",
      "Even numbers are =  94\n",
      "Even numbers are =  96\n",
      "Even numbers are =  98\n",
      "Even numbers are =  100\n"
     ]
    }
   ],
   "source": [
    "print(\"Printing even numbers between 1 to 100\")\n",
    "\n",
    "for i in range(2, 101):\n",
    "    if i % 2 == 0:\n",
    "        print(\"Even numbers are = \", i)"
   ]
  },
  {
   "cell_type": "code",
   "execution_count": null,
   "id": "50982a45-7870-4023-a4bb-e56e2e8ce521",
   "metadata": {},
   "outputs": [],
   "source": []
  }
 ],
 "metadata": {
  "kernelspec": {
   "display_name": "Python [conda env:base] *",
   "language": "python",
   "name": "conda-base-py"
  },
  "language_info": {
   "codemirror_mode": {
    "name": "ipython",
    "version": 3
   },
   "file_extension": ".py",
   "mimetype": "text/x-python",
   "name": "python",
   "nbconvert_exporter": "python",
   "pygments_lexer": "ipython3",
   "version": "3.12.7"
  }
 },
 "nbformat": 4,
 "nbformat_minor": 5
}
