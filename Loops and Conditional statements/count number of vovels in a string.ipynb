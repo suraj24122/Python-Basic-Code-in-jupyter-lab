{
 "cells": [
  {
   "cell_type": "code",
   "execution_count": 13,
   "id": "2efcff6f-a93c-4e06-84b3-0be4342a1177",
   "metadata": {},
   "outputs": [
    {
     "name": "stdin",
     "output_type": "stream",
     "text": [
      "Enter the string to count vowles =  suraj\n"
     ]
    },
    {
     "name": "stdout",
     "output_type": "stream",
     "text": [
      "number of vowels in suraj is 2\n"
     ]
    }
   ],
   "source": [
    "user_input = input(\"Enter the string to count vowles = \")\n",
    "count = 0\n",
    "user_input = user_input.lower()\n",
    "for ch in user_input:\n",
    "    if ch.lower() in \"aeiou\":\n",
    "        count += 1\n",
    "print(f\"number of vowels in {user_input} is {count}\")"
   ]
  },
  {
   "cell_type": "code",
   "execution_count": null,
   "id": "890f6f61-e340-498f-a563-032ab8572022",
   "metadata": {},
   "outputs": [],
   "source": []
  }
 ],
 "metadata": {
  "kernelspec": {
   "display_name": "Python [conda env:base] *",
   "language": "python",
   "name": "conda-base-py"
  },
  "language_info": {
   "codemirror_mode": {
    "name": "ipython",
    "version": 3
   },
   "file_extension": ".py",
   "mimetype": "text/x-python",
   "name": "python",
   "nbconvert_exporter": "python",
   "pygments_lexer": "ipython3",
   "version": "3.12.7"
  }
 },
 "nbformat": 4,
 "nbformat_minor": 5
}
