{
 "cells": [
  {
   "cell_type": "code",
   "execution_count": 9,
   "id": "406c73a5-e645-4af7-846a-4e4c9a38dfd6",
   "metadata": {},
   "outputs": [
    {
     "name": "stdin",
     "output_type": "stream",
     "text": [
      "Enter the number to find the factorial =  5\n"
     ]
    },
    {
     "name": "stdout",
     "output_type": "stream",
     "text": [
      "Factorial of the 5 is 120\n"
     ]
    }
   ],
   "source": [
    "user_enter = int(input(\"Enter the number to find the factorial = \"))\n",
    "factorial = 1\n",
    "i = 1\n",
    "for i in range(i, user_enter+1):\n",
    "    factorial *= i\n",
    "print(f\"Factorial of the {user_enter} is {factorial}\")"
   ]
  },
  {
   "cell_type": "code",
   "execution_count": null,
   "id": "9f5c52d6-56f6-4334-99d4-08b0cba7cad4",
   "metadata": {},
   "outputs": [],
   "source": []
  }
 ],
 "metadata": {
  "kernelspec": {
   "display_name": "Python [conda env:base] *",
   "language": "python",
   "name": "conda-base-py"
  },
  "language_info": {
   "codemirror_mode": {
    "name": "ipython",
    "version": 3
   },
   "file_extension": ".py",
   "mimetype": "text/x-python",
   "name": "python",
   "nbconvert_exporter": "python",
   "pygments_lexer": "ipython3",
   "version": "3.12.7"
  }
 },
 "nbformat": 4,
 "nbformat_minor": 5
}
