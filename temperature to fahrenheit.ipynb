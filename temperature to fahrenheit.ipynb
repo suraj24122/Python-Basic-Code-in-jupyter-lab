{
 "cells": [
  {
   "cell_type": "code",
   "execution_count": 15,
   "id": "fa84be46-c08b-4c56-8bca-ff107551f603",
   "metadata": {},
   "outputs": [
    {
     "name": "stdout",
     "output_type": "stream",
     "text": [
      "Temperature converter\n",
      "1. Celsius to Fahrenheit\n",
      "2. Fahrenheit to celsius\n"
     ]
    },
    {
     "name": "stdin",
     "output_type": "stream",
     "text": [
      "choose an option - 1/2 =  1\n",
      "Enter temperature in celsius =  37\n"
     ]
    },
    {
     "name": "stdout",
     "output_type": "stream",
     "text": [
      "Temperature in Fahrenheit 98.6\n"
     ]
    }
   ],
   "source": [
    "print(\"Temperature converter\")\n",
    "print(\"1. Celsius to Fahrenheit\")\n",
    "print(\"2. Fahrenheit to celsius\")\n",
    "choise = int(input(\"choose an option - 1/2 = \"))\n",
    "\n",
    "\n",
    "if choise == 1:\n",
    "    celsius = float(input(\"Enter temperature in celsius = \"))\n",
    "    Fahrenheit = (celsius * 9/5) + 32\n",
    "    print(f\"Temperature in Fahrenheit {Fahrenheit}\")\n",
    "elif choise == 2:\n",
    "    Fahrenheit = float(input(\"Enter the temperature in Fahrenheit = \"))\n",
    "    celsius = (Fahrenheit - 32) * 5/9\n",
    "    print(f\"Temperature in celsius {celsius}\")\n",
    "else:\n",
    "    print(\"Invalid option... Enter between 1 or 2\")\n",
    "    "
   ]
  },
  {
   "cell_type": "code",
   "execution_count": null,
   "id": "83a29045-4ccc-4b83-9326-328dd91a87d5",
   "metadata": {},
   "outputs": [],
   "source": []
  }
 ],
 "metadata": {
  "kernelspec": {
   "display_name": "Python [conda env:base] *",
   "language": "python",
   "name": "conda-base-py"
  },
  "language_info": {
   "codemirror_mode": {
    "name": "ipython",
    "version": 3
   },
   "file_extension": ".py",
   "mimetype": "text/x-python",
   "name": "python",
   "nbconvert_exporter": "python",
   "pygments_lexer": "ipython3",
   "version": "3.12.7"
  }
 },
 "nbformat": 4,
 "nbformat_minor": 5
}
